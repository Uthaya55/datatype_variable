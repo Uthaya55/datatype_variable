{
 "cells": [
  {
   "cell_type": "code",
   "execution_count": 75,
   "id": "70995005",
   "metadata": {},
   "outputs": [],
   "source": [
    "graph={'pkc':['stadium','parking','tree'],\n",
    "       'stadium':['main block'],\n",
    "       'parking':['junction'],\n",
    "       'junction':['entrance','main block'],\n",
    "       'entrance':['junction'],\n",
    "       'main block':['junction'],\n",
    "       'tree':['pkc']}"
   ]
  },
  {
   "cell_type": "code",
   "execution_count": 76,
   "id": "105310cd",
   "metadata": {},
   "outputs": [],
   "source": [
    "from collections import deque\n",
    "def BFS(graph,start,goal):\n",
    "    visited=[]\n",
    "    queue=deque([start])\n",
    "    while queue:\n",
    "        node=queue.popleft()\n",
    "        if node not in visited:\n",
    "            visited.append(node)\n",
    "            print('i have visited:',node)\n",
    "            neighbournode=graph[node]\n",
    "            if node==goal:\n",
    "                print('i have reached the goal,the path i travelled is',visited)\n",
    "                \n",
    "            for neighbours in neighbournode:\n",
    "                    queue.append(neighbours)\n",
    "                "
   ]
  },
  {
   "cell_type": "code",
   "execution_count": 77,
   "id": "80babfae",
   "metadata": {
    "scrolled": true
   },
   "outputs": [
    {
     "name": "stdout",
     "output_type": "stream",
     "text": [
      "i have visited: stadium\n",
      "i have visited: main block\n",
      "i have reached the goal,the path i travelled is ['stadium', 'main block']\n",
      "i have visited: junction\n",
      "i have visited: entrance\n"
     ]
    }
   ],
   "source": [
    "BFS(graph,'stadium','main block')"
   ]
  },
  {
   "cell_type": "markdown",
   "id": "bd0f8c08",
   "metadata": {},
   "source": [
    "# TASK 1"
   ]
  },
  {
   "cell_type": "code",
   "execution_count": 13,
   "id": "6673121e",
   "metadata": {},
   "outputs": [],
   "source": [
    "graph={'hostel':['pmist','pillayarpatti','medical','highway bridge','periya kovil'],\n",
    "       'pmist':['pillayarpatti'],\n",
    "       'pillayarpatti':['medical'],\n",
    "       'medical':['highway bridge'],\n",
    "       'highway bridge':['periya kovil'],\n",
    "       'periya kovil':['highway bridge']}\n",
    "         "
   ]
  },
  {
   "cell_type": "code",
   "execution_count": 14,
   "id": "dbc5d820",
   "metadata": {},
   "outputs": [],
   "source": [
    "from collections import deque\n",
    "def BFS(graph,start,goal):\n",
    "    visited=[]\n",
    "    queue=deque([start])\n",
    "    while queue:\n",
    "        node=queue.popleft()\n",
    "        if node not in visited:\n",
    "            visited.append(node)\n",
    "            print('i have visited:',node)\n",
    "            neighbournode=graph[node]\n",
    "            if node==goal:\n",
    "                print('i have reached the goal,the path i travelled is',visited)\n",
    "                \n",
    "            for neighbours in neighbournode:\n",
    "                    queue.append(neighbours)"
   ]
  },
  {
   "cell_type": "code",
   "execution_count": 15,
   "id": "61af78b8",
   "metadata": {},
   "outputs": [
    {
     "name": "stdout",
     "output_type": "stream",
     "text": [
      "i have visited: hostel\n",
      "i have visited: pmist\n",
      "i have visited: pillayarpatti\n",
      "i have visited: medical\n",
      "i have visited: highway bridge\n",
      "i have visited: periya kovil\n",
      "i have reached the goal,the path i travelled is ['hostel', 'pmist', 'pillayarpatti', 'medical', 'highway bridge', 'periya kovil']\n"
     ]
    }
   ],
   "source": [
    "BFS(graph,'hostel','periya kovil')"
   ]
  },
  {
   "cell_type": "code",
   "execution_count": 18,
   "id": "0646407b",
   "metadata": {},
   "outputs": [],
   "source": [
    "from queue import LifoQueue\n",
    "stack=LifoQueue\n",
    "def dfs(graph,start,goal,visited):\n",
    "    stack=[start]\n",
    "    while stack:\n",
    "        node=stack.pop()\n",
    "        if node not in visited:\n",
    "            visited.append(node)\n",
    "            if node==goal:\n",
    "                print(visited)\n",
    "            for neighbours in graph[node]:\n",
    "                dfs(graph,neighbours,goal,visited)"
   ]
  },
  {
   "cell_type": "code",
   "execution_count": null,
   "id": "383d4d03",
   "metadata": {},
   "outputs": [],
   "source": []
  },
  {
   "cell_type": "code",
   "execution_count": null,
   "id": "55ae7135",
   "metadata": {},
   "outputs": [],
   "source": []
  }
 ],
 "metadata": {
  "kernelspec": {
   "display_name": "Python 3 (ipykernel)",
   "language": "python",
   "name": "python3"
  },
  "language_info": {
   "codemirror_mode": {
    "name": "ipython",
    "version": 3
   },
   "file_extension": ".py",
   "mimetype": "text/x-python",
   "name": "python",
   "nbconvert_exporter": "python",
   "pygments_lexer": "ipython3",
   "version": "3.9.13"
  }
 },
 "nbformat": 4,
 "nbformat_minor": 5
}
