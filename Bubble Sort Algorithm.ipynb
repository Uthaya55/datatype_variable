{
 "cells": [
  {
   "cell_type": "code",
   "execution_count": 27,
   "id": "f4bed1bb",
   "metadata": {},
   "outputs": [],
   "source": [
    "data=[10,20,30,40,50,20,10,20,-40]"
   ]
  },
  {
   "cell_type": "code",
   "execution_count": 28,
   "id": "9990a996",
   "metadata": {},
   "outputs": [
    {
     "data": {
      "text/plain": [
       "[10, 20, 30, 40, 50, 20, 10, 20, -40]"
      ]
     },
     "execution_count": 28,
     "metadata": {},
     "output_type": "execute_result"
    }
   ],
   "source": [
    "data"
   ]
  },
  {
   "cell_type": "code",
   "execution_count": 29,
   "id": "f7c0403c",
   "metadata": {},
   "outputs": [
    {
     "data": {
      "text/plain": [
       "9"
      ]
     },
     "execution_count": 29,
     "metadata": {},
     "output_type": "execute_result"
    }
   ],
   "source": [
    "len(data)"
   ]
  },
  {
   "cell_type": "code",
   "execution_count": 31,
   "id": "e4c1eccc",
   "metadata": {},
   "outputs": [],
   "source": [
    "def bubble_sort(data):\n",
    "    for i in range(len(data)):\n",
    "        for j in range(0,len(data)-i-1):\n",
    "            if data[j]>data[j+1]:\n",
    "                    k=data[j]\n",
    "                    data[j]=data[j+1]\n",
    "                    data[j+1]=k\n",
    "                "
   ]
  },
  {
   "cell_type": "code",
   "execution_count": 32,
   "id": "0ddedb1b",
   "metadata": {},
   "outputs": [],
   "source": [
    "bubble_sort(data)"
   ]
  },
  {
   "cell_type": "code",
   "execution_count": 33,
   "id": "8e0b9338",
   "metadata": {},
   "outputs": [
    {
     "data": {
      "text/plain": [
       "[-40, 10, 10, 20, 20, 20, 30, 40, 50]"
      ]
     },
     "execution_count": 33,
     "metadata": {},
     "output_type": "execute_result"
    }
   ],
   "source": [
    "data"
   ]
  },
  {
   "cell_type": "code",
   "execution_count": null,
   "id": "91e3ebd3",
   "metadata": {},
   "outputs": [],
   "source": []
  }
 ],
 "metadata": {
  "kernelspec": {
   "display_name": "Python 3 (ipykernel)",
   "language": "python",
   "name": "python3"
  },
  "language_info": {
   "codemirror_mode": {
    "name": "ipython",
    "version": 3
   },
   "file_extension": ".py",
   "mimetype": "text/x-python",
   "name": "python",
   "nbconvert_exporter": "python",
   "pygments_lexer": "ipython3",
   "version": "3.11.4"
  }
 },
 "nbformat": 4,
 "nbformat_minor": 5
}
