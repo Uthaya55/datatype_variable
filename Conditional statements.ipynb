{
 "cells": [
  {
   "cell_type": "markdown",
   "id": "5c0c15eb",
   "metadata": {},
   "source": [
    "# CONDITIONAL STATEMENTS"
   ]
  },
  {
   "cell_type": "code",
   "execution_count": 11,
   "id": "fcf15391",
   "metadata": {},
   "outputs": [],
   "source": [
    "a=100"
   ]
  },
  {
   "cell_type": "code",
   "execution_count": null,
   "id": "9de482b5",
   "metadata": {},
   "outputs": [],
   "source": [
    "if a==100:\n",
    "    print(\"pass\")\n",
    "else:\n",
    "    print(\"faill\")"
   ]
  },
  {
   "cell_type": "code",
   "execution_count": null,
   "id": "6b9c717e",
   "metadata": {},
   "outputs": [],
   "source": [
    "age=int(input(\"enter your age: \"))\n",
    "if age>=18:\n",
    "    print(\"eligible for vote\")\n",
    "else:\n",
    "    print(\"not eligible for vote\")"
   ]
  },
  {
   "cell_type": "code",
   "execution_count": 1,
   "id": "8df87254",
   "metadata": {},
   "outputs": [
    {
     "name": "stdout",
     "output_type": "stream",
     "text": [
      "entr your age: 55\n",
      "your eligiible for voting\n",
      "enter your name:balaji\n",
      "enter your area:hariyur\n"
     ]
    }
   ],
   "source": [
    "age=int(input(\"entr your age: \"))\n",
    "if age>=18:\n",
    "    print(\"your eligiible for voting\")\n",
    "    name=input(\"enter your name:\")\n",
    "    location=input(\"enter your area:\")\n",
    "else:\n",
    "    print(\"not eligible for voting\")"
   ]
  },
  {
   "cell_type": "code",
   "execution_count": 2,
   "id": "93565b59",
   "metadata": {},
   "outputs": [
    {
     "name": "stdout",
     "output_type": "stream",
     "text": [
      "user delayed for submition of books:5\n",
      "dont come to library\n"
     ]
    }
   ],
   "source": [
    "days=int(input(\"user delayed for submition of books:\"))\n",
    "if days >= 1 and days <=2:\n",
    "    print(\"fine amount:10 rupees\")\n",
    "elif days>=3 and days <=4:\n",
    "    print(\"fine amount:1000\")\n",
    "else:\n",
    "    print(\"dont come to library\")"
   ]
  },
  {
   "cell_type": "raw",
   "id": "197bcc63",
   "metadata": {},
   "source": []
  }
 ],
 "metadata": {
  "kernelspec": {
   "display_name": "Python 3 (ipykernel)",
   "language": "python",
   "name": "python3"
  },
  "language_info": {
   "codemirror_mode": {
    "name": "ipython",
    "version": 3
   },
   "file_extension": ".py",
   "mimetype": "text/x-python",
   "name": "python",
   "nbconvert_exporter": "python",
   "pygments_lexer": "ipython3",
   "version": "3.11.4"
  }
 },
 "nbformat": 4,
 "nbformat_minor": 5
}
