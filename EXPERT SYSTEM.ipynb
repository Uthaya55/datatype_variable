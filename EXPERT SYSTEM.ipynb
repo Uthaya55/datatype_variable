{
 "cells": [
  {
   "cell_type": "code",
   "execution_count": 1,
   "id": "09958f2e",
   "metadata": {},
   "outputs": [
    {
     "name": "stdout",
     "output_type": "stream",
     "text": [
      "\n",
      " welcome to leo gun shop\n",
      "\n",
      " your gun is working or not working\n",
      "any issuesyes\n",
      "what are the problem you face in your gun:\n",
      "1.not fire\n",
      "2.not intrest\n",
      "3.no issues\n",
      "\n",
      "enter the number of problems you face2\n",
      "not intrest to keep your gun\n"
     ]
    }
   ],
   "source": [
    "print(\"\\n welcome to leo gun shop\")\n",
    "print(\"\\n your gun is working or not working\")\n",
    "a=input(\"any issues\")\n",
    "if a==\"yes\":\n",
    "    print(\"what are the problem you face in your gun:\\n1.not fire\\n2.not intrest\\n3.no issues\\n\")\n",
    "    b=int(input(\"enter the number of problems you face\"))\n",
    "    if b==1:\n",
    "        print(\"not fire in your gun\\n\")\n",
    "    elif b==2:\n",
    "        print(\"not intrest to keep your gun\")\n",
    "    elif c==3:\n",
    "        print(\"no issues you face\")\n",
    "    else:\n",
    "        print(\"please enter correct no:\")\n",
    "    "
   ]
  },
  {
   "cell_type": "code",
   "execution_count": 19,
   "id": "9bbbf945",
   "metadata": {},
   "outputs": [
    {
     "name": "stdout",
     "output_type": "stream",
     "text": [
      "WELCOME TO SOFTWARE  WORLD\n",
      "\n",
      "any doubt about your buying  product\n",
      "\n",
      "any issue your are facing in your product yes or no \n",
      "yes\n",
      "what are the problems your facing in your product:\n",
      "1.my lab is not working\n",
      "2.heat issue occuring\n",
      "3.lines are  occur in my display\n",
      "\n",
      "enter the correct s.no1\n",
      "so..software issues are occur in your system:\n",
      "1.screen is not work\n"
     ]
    }
   ],
   "source": [
    "print(\"WELCOME TO SOFTWARE  WORLD\\n\")\n",
    "print(\"any doubt about your buying  product\\n\")\n",
    "a=input(\"any issue your are facing in your product yes or no \\n\")\n",
    "if a==\"yes\":\n",
    "    print(\"what are the problems your facing in your product:\\n1.my lab is not working\\n2.heat issue occuring\\n3.lines are  occur in my display\\n\")\n",
    "    b=int(input(\"enter the correct s.no\"))\n",
    "    if b==1:\n",
    "        print(\"so..software issues are occur in your system:\\n1.screen is not work\")\n",
    "    elif b==2:\n",
    "        print(\"please come to sofware world shop\")\n",
    "    else:\n",
    "        print(\"please enter correct s.no\")\n",
    "if b==2:\n",
    "    print(\"your lab is over heayesting\\n\")\n",
    "    print(\"isseses are there type yes or no\")\n",
    "    b=input(\"any issues\")\n",
    "    if b==\"yes\":\n",
    "        print(\"please go to near sofware shop\")\n",
    "    elif b==\"no\":\n",
    "        print(\"display lines are occur\")\n",
    "    else:\n",
    "        print(\"please enter correct s.no\")\n",
    "    "
   ]
  },
  {
   "cell_type": "code",
   "execution_count": null,
   "id": "0ae6334e",
   "metadata": {},
   "outputs": [],
   "source": []
  }
 ],
 "metadata": {
  "kernelspec": {
   "display_name": "Python 3 (ipykernel)",
   "language": "python",
   "name": "python3"
  },
  "language_info": {
   "codemirror_mode": {
    "name": "ipython",
    "version": 3
   },
   "file_extension": ".py",
   "mimetype": "text/x-python",
   "name": "python",
   "nbconvert_exporter": "python",
   "pygments_lexer": "ipython3",
   "version": "3.9.13"
  }
 },
 "nbformat": 4,
 "nbformat_minor": 5
}
