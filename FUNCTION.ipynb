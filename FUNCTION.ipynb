{
 "cells": [
  {
   "cell_type": "code",
   "execution_count": 3,
   "id": "c76bc116",
   "metadata": {},
   "outputs": [],
   "source": [
    "def birthday():\n",
    "    print(\"ordering cake\")\n",
    "    print(\"birthday setup\")\n",
    "    print(\"cake cutting\")\n",
    "    print(\"celebrating birthday\")\n",
    "    "
   ]
  },
  {
   "cell_type": "code",
   "execution_count": 4,
   "id": "81c13306",
   "metadata": {},
   "outputs": [
    {
     "name": "stdout",
     "output_type": "stream",
     "text": [
      "ordering cake\n",
      "birthday setup\n",
      "cake cutting\n",
      "celebrating birthday\n"
     ]
    }
   ],
   "source": [
    "birthday()"
   ]
  },
  {
   "cell_type": "code",
   "execution_count": 17,
   "id": "56e3986c",
   "metadata": {},
   "outputs": [],
   "source": [
    "def eligibility(age):\n",
    "    age=int(input(\"enter your age :\"))\n",
    "    if age >18:\n",
    "        print(\"your are  eligible for voting :\")\n",
    "    else:\n",
    "        print(\"your not eligible for voting :\")\n",
    "    "
   ]
  },
  {
   "cell_type": "code",
   "execution_count": 18,
   "id": "680ecfe5",
   "metadata": {},
   "outputs": [
    {
     "name": "stdout",
     "output_type": "stream",
     "text": [
      "enter your age :19\n",
      "your are  eligible for voting :\n"
     ]
    }
   ],
   "source": [
    "eligibility(19)"
   ]
  },
  {
   "cell_type": "code",
   "execution_count": null,
   "id": "47851be8",
   "metadata": {},
   "outputs": [],
   "source": []
  }
 ],
 "metadata": {
  "kernelspec": {
   "display_name": "Python 3 (ipykernel)",
   "language": "python",
   "name": "python3"
  },
  "language_info": {
   "codemirror_mode": {
    "name": "ipython",
    "version": 3
   },
   "file_extension": ".py",
   "mimetype": "text/x-python",
   "name": "python",
   "nbconvert_exporter": "python",
   "pygments_lexer": "ipython3",
   "version": "3.11.4"
  }
 },
 "nbformat": 4,
 "nbformat_minor": 5
}
