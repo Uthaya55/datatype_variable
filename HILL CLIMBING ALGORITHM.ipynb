{
 "cells": [
  {
   "cell_type": "code",
   "execution_count": 59,
   "id": "4497b741",
   "metadata": {},
   "outputs": [
    {
     "ename": "SyntaxError",
     "evalue": "cannot assign to operator (3887195252.py, line 1)",
     "output_type": "error",
     "traceback": [
      "\u001b[1;36m  Input \u001b[1;32mIn [59]\u001b[1;36m\u001b[0m\n\u001b[1;33m    chennai-banglore=347\u001b[0m\n\u001b[1;37m    ^\u001b[0m\n\u001b[1;31mSyntaxError\u001b[0m\u001b[1;31m:\u001b[0m cannot assign to operator\n"
     ]
    }
   ],
   "source": [
    "chennai-banglore=347\n",
    "chennai-delhi=2196\n",
    "chennai-kolkata=1667\n",
    "banglore-delhi=2164\n",
    "banglore-kolkata=1875\n",
    "delhi-kolkata=1559\n",
    "all value in kms"
   ]
  },
  {
   "cell_type": "markdown",
   "id": "fdd60bac",
   "metadata": {},
   "source": [
    "# importing random library"
   ]
  },
  {
   "cell_type": "code",
   "execution_count": 108,
   "id": "03cbd641",
   "metadata": {},
   "outputs": [],
   "source": [
    "import random"
   ]
  },
  {
   "cell_type": "markdown",
   "id": "45bb5568",
   "metadata": {},
   "source": [
    "# travelling sales man city distances"
   ]
  },
  {
   "cell_type": "code",
   "execution_count": 109,
   "id": "2ca89ebc",
   "metadata": {},
   "outputs": [],
   "source": [
    "tsp=[[0,347,2196,1667],\n",
    "    [347,0,2164,1875],\n",
    "    [2196,2164,0,1559],\n",
    "    [1667,1875,1559,0]]"
   ]
  },
  {
   "cell_type": "code",
   "execution_count": 110,
   "id": "6b0017d2",
   "metadata": {},
   "outputs": [],
   "source": [
    "def randomsolution(tsp):\n",
    "    cities=list(range(len(tsp)))\n",
    "    solution=[]\n",
    "    \n",
    "    for i in range(len(tsp)):\n",
    "        randomcity=cities[random.randint(0,len(cities)-1)]\n",
    "        solution.append(randomcity)\n",
    "        cities.remove(randomcity)\n",
    "        \n",
    "    return solution\n",
    "    "
   ]
  },
  {
   "cell_type": "code",
   "execution_count": 111,
   "id": "7c79588c",
   "metadata": {},
   "outputs": [
    {
     "name": "stdout",
     "output_type": "stream",
     "text": [
      "[0, 3, 1, 2]\n"
     ]
    }
   ],
   "source": [
    "solution=randomsolution(tsp)\n",
    "print(solution)"
   ]
  },
  {
   "cell_type": "code",
   "execution_count": 112,
   "id": "8e6e73b3",
   "metadata": {},
   "outputs": [],
   "source": [
    "def routelength(tsp,solution):\n",
    "    routelength=0\n",
    "    for i in range(len(solution)):\n",
    "        routelength+=tsp[solution[i-1]][i]\n",
    "        return routelength\n",
    "    "
   ]
  },
  {
   "cell_type": "code",
   "execution_count": 113,
   "id": "02cfe14e",
   "metadata": {},
   "outputs": [
    {
     "data": {
      "text/plain": [
       "2196"
      ]
     },
     "execution_count": 113,
     "metadata": {},
     "output_type": "execute_result"
    }
   ],
   "source": [
    "routelength(tsp,solution)"
   ]
  },
  {
   "cell_type": "code",
   "execution_count": 114,
   "id": "2e0677fe",
   "metadata": {},
   "outputs": [],
   "source": [
    "def getneighbours(solution):\n",
    "    neighbours=[]\n",
    "    for i in range(len(solution)):\n",
    "        for j in range(i+1,len(solution)):\n",
    "            neighbour=solution.copy()\n",
    "            neighbour[i]=solution[j]\n",
    "            neighbour[j]=solution[i]\n",
    "            neighbours.append(neighbour) \n",
    "    return neighbours\n",
    "        "
   ]
  },
  {
   "cell_type": "code",
   "execution_count": 115,
   "id": "7f802228",
   "metadata": {},
   "outputs": [
    {
     "name": "stdout",
     "output_type": "stream",
     "text": [
      "[[3, 0, 1, 2], [1, 3, 0, 2], [2, 3, 1, 0], [0, 1, 3, 2], [0, 2, 1, 3], [0, 3, 2, 1]]\n"
     ]
    }
   ],
   "source": [
    "neighbours=getneighbours(solution)\n",
    "print(neighbours)"
   ]
  },
  {
   "cell_type": "code",
   "execution_count": 116,
   "id": "2954a93a",
   "metadata": {},
   "outputs": [],
   "source": [
    "def getbestneighbour(tsp,neighbours):\n",
    "    bestroutelength=routelength(tsp,neighbours[0])\n",
    "    bestneighbour=neighbours[0]\n",
    "    for neighbour in neighbours:\n",
    "        currentroutelength=routelength(tsp,neighbour)\n",
    "        if currentroutelength < bestroutelength:\n",
    "            bestroutelength=currentroutelength\n",
    "            bestneighbour=neighbour\n",
    "        return bestneighbour,bestroutelength"
   ]
  },
  {
   "cell_type": "code",
   "execution_count": 119,
   "id": "dabd884f",
   "metadata": {},
   "outputs": [
    {
     "data": {
      "text/plain": [
       "([3, 0, 1, 2], 2196)"
      ]
     },
     "execution_count": 119,
     "metadata": {},
     "output_type": "execute_result"
    }
   ],
   "source": [
    "getbestneighbour(tsp,neighbours)"
   ]
  },
  {
   "cell_type": "code",
   "execution_count": 121,
   "id": "4f7434b4",
   "metadata": {},
   "outputs": [],
   "source": [
    "def hillclimbing(tsp):\n",
    "    currentsolution=randomsolution(tsp)\n",
    "    currentroutelength=routelength(tsp,currentsolution)\n",
    "    neighbours=getneighbours(currentsolution)\n",
    "    bestneighbour,bestneighbourroutelength=getbestneighbour(tsp,neighbours)\n",
    "    \n",
    "    while bestneighbourroutelength<currentroutelength:\n",
    "        currentsolution=bestneighbour\n",
    "        currentroutelength=bestneighbourroutelength\n",
    "        neighbour=getneighbours(currentsolution)\n",
    "        bestneighbour=bestneighbourroutelength=getbestneighbour(tsp,neighbour)\n",
    "    return currentsolution,currentroutelength\n",
    "        "
   ]
  },
  {
   "cell_type": "code",
   "execution_count": 122,
   "id": "b76a0b73",
   "metadata": {},
   "outputs": [
    {
     "name": "stdout",
     "output_type": "stream",
     "text": [
      "([1, 2, 0, 3], 1667)\n"
     ]
    }
   ],
   "source": [
    "print(hillclimbing(tsp))"
   ]
  },
  {
   "cell_type": "code",
   "execution_count": null,
   "id": "9fb5990c",
   "metadata": {},
   "outputs": [],
   "source": []
  }
 ],
 "metadata": {
  "kernelspec": {
   "display_name": "Python 3 (ipykernel)",
   "language": "python",
   "name": "python3"
  },
  "language_info": {
   "codemirror_mode": {
    "name": "ipython",
    "version": 3
   },
   "file_extension": ".py",
   "mimetype": "text/x-python",
   "name": "python",
   "nbconvert_exporter": "python",
   "pygments_lexer": "ipython3",
   "version": "3.9.13"
  }
 },
 "nbformat": 4,
 "nbformat_minor": 5
}
