{
 "cells": [
  {
   "cell_type": "markdown",
   "id": "c2885f62",
   "metadata": {},
   "source": [
    "# FOR LOOP"
   ]
  },
  {
   "cell_type": "code",
   "execution_count": 8,
   "id": "08b82c70",
   "metadata": {},
   "outputs": [
    {
     "name": "stdout",
     "output_type": "stream",
     "text": [
      "the step is 1\n",
      "the step is 2\n",
      "the step is 3\n",
      "the step is 4\n",
      "the step is 5\n"
     ]
    }
   ],
   "source": [
    "lis=[1,2,3,4,5]\n",
    "for step in lis:\n",
    "    print(f\"the step is {step}\")"
   ]
  },
  {
   "cell_type": "code",
   "execution_count": 33,
   "id": "658c76aa",
   "metadata": {},
   "outputs": [
    {
     "name": "stdout",
     "output_type": "stream",
     "text": [
      "the step is thanigai\n",
      "the step is 11\n"
     ]
    }
   ],
   "source": [
    "lis=['thanigai',11]\n",
    "for step in lis:\n",
    "    print(f\"the step is {step}\")"
   ]
  },
  {
   "cell_type": "code",
   "execution_count": 35,
   "id": "9cde27a8",
   "metadata": {},
   "outputs": [
    {
     "name": "stdout",
     "output_type": "stream",
     "text": [
      "Enter the Number product in your trolly : 2\n",
      "Enter the Number of Product : 22\n",
      "Enter the Number of Product : 2\n"
     ]
    }
   ],
   "source": [
    "a = int(input(\"Enter the Number product in your trolly : \"))\n",
    "for i in range(a):\n",
    "    str(input(\"Enter the Number of Product : \"))"
   ]
  },
  {
   "cell_type": "code",
   "execution_count": 42,
   "id": "8152ba96",
   "metadata": {},
   "outputs": [
    {
     "name": "stdout",
     "output_type": "stream",
     "text": [
      "enter the number of products purchased: 10\n",
      "enter product name: 3333131\n",
      "enter product name: 3\n",
      "enter product name: 313\n",
      "enter product name: \n",
      "enter product name: 3313\n",
      "enter product name: 33\n",
      "enter product name: 3\n",
      "enter product name: 3\n",
      "enter product name: 3\n",
      "enter product name: 3\n"
     ]
    }
   ],
   "source": [
    "prod_name=[]\n",
    "total_item=int(input(\"enter the number of products purchased: \"))\n",
    "for item in range(0,total_item):\n",
    "    prod_name.append(input(\"enter product name: \"))"
   ]
  },
  {
   "cell_type": "code",
   "execution_count": null,
   "id": "a6072283",
   "metadata": {},
   "outputs": [],
   "source": []
  }
 ],
 "metadata": {
  "kernelspec": {
   "display_name": "Python 3 (ipykernel)",
   "language": "python",
   "name": "python3"
  },
  "language_info": {
   "codemirror_mode": {
    "name": "ipython",
    "version": 3
   },
   "file_extension": ".py",
   "mimetype": "text/x-python",
   "name": "python",
   "nbconvert_exporter": "python",
   "pygments_lexer": "ipython3",
   "version": "3.11.4"
  }
 },
 "nbformat": 4,
 "nbformat_minor": 5
}
