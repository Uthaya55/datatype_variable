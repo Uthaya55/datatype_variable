{
 "cells": [
  {
   "cell_type": "code",
   "execution_count": 95,
   "id": "0b278a66",
   "metadata": {},
   "outputs": [],
   "source": [
    "from protopunica import *"
   ]
  },
  {
   "cell_type": "raw",
   "id": "25f65310",
   "metadata": {},
   "source": [
    "imagine we have mr.markow who is a foodie.but he cannot cook all by himself,so he appointed by chef \n",
    "who needs to make sure he serve the best that keeps mr.markow healthy\n",
    "ifmr.markow had a pizza for lunch then the probability that he is going to have a pizza is 75% and is\n",
    " 75% and is 25%.probable that he is going to have a vegetables and steek tommorow similarly mr.markow \n",
    "have the vegetable and steek for lunch today 60% sure that he will have the same lunch tommorow and \n",
    "40% sure they he will have a pizza"
   ]
  },
  {
   "cell_type": "code",
   "execution_count": 96,
   "id": "95703841",
   "metadata": {},
   "outputs": [],
   "source": [
    "import numpy as np"
   ]
  },
  {
   "cell_type": "code",
   "execution_count": 111,
   "id": "12e09be0",
   "metadata": {},
   "outputs": [],
   "source": [
    "Start=DiscreteDistribution({\"pizza\":0,\"veg\":1})"
   ]
  },
  {
   "cell_type": "code",
   "execution_count": 112,
   "id": "705f07cb",
   "metadata": {},
   "outputs": [],
   "source": [
    "Transitions=ConditionalProbabilityTable([[\"pizza\",\"pizza\",0.75],\n",
    "                                        [\"pizza\",\"veg\",0.25],\n",
    "                                        [\"veg\",\"veg\",0.6],\n",
    "                                        [\"veg\",\"pizza\",0.4]],[Start])\n"
   ]
  },
  {
   "cell_type": "code",
   "execution_count": 113,
   "id": "76712c4a",
   "metadata": {},
   "outputs": [],
   "source": [
    "Model=MarkovChain([start,Transitions])"
   ]
  },
  {
   "cell_type": "code",
   "execution_count": 114,
   "id": "341c0842",
   "metadata": {},
   "outputs": [],
   "source": [
    "Random_samples=Model.sample(3)"
   ]
  },
  {
   "cell_type": "code",
   "execution_count": 125,
   "id": "4eac2c55",
   "metadata": {},
   "outputs": [
    {
     "name": "stdout",
     "output_type": "stream",
     "text": [
      "['pizza', 'pizza', 'pizza']\n"
     ]
    }
   ],
   "source": [
    "print(Random_samples)"
   ]
  },
  {
   "cell_type": "code",
   "execution_count": 126,
   "id": "25c8d35e",
   "metadata": {},
   "outputs": [],
   "source": [
    "log_probability=Model.log_probability(Random_samples)"
   ]
  },
  {
   "cell_type": "code",
   "execution_count": 127,
   "id": "6114072e",
   "metadata": {},
   "outputs": [],
   "source": [
    "probability_of_occurence=np.exp(log_probability)"
   ]
  },
  {
   "cell_type": "code",
   "execution_count": 128,
   "id": "87b0a93f",
   "metadata": {},
   "outputs": [
    {
     "data": {
      "text/plain": [
       "0.5625"
      ]
     },
     "execution_count": 128,
     "metadata": {},
     "output_type": "execute_result"
    }
   ],
   "source": [
    "probability_of_occurence"
   ]
  },
  {
   "cell_type": "code",
   "execution_count": 129,
   "id": "afed4c9f",
   "metadata": {},
   "outputs": [],
   "source": [
    "log_probability_food_sequence=Model.log_probability([\"veg\",\"veg\",\"veg\"])"
   ]
  },
  {
   "cell_type": "code",
   "execution_count": 130,
   "id": "a5394814",
   "metadata": {},
   "outputs": [],
   "source": [
    "probability_of_food=np.exp(log_probability_food_sequence)"
   ]
  },
  {
   "cell_type": "code",
   "execution_count": 131,
   "id": "e473aaa5",
   "metadata": {},
   "outputs": [
    {
     "name": "stdout",
     "output_type": "stream",
     "text": [
      "0.0\n"
     ]
    }
   ],
   "source": [
    "print(probability_of_food)"
   ]
  }
 ],
 "metadata": {
  "kernelspec": {
   "display_name": "Python 3 (ipykernel)",
   "language": "python",
   "name": "python3"
  },
  "language_info": {
   "codemirror_mode": {
    "name": "ipython",
    "version": 3
   },
   "file_extension": ".py",
   "mimetype": "text/x-python",
   "name": "python",
   "nbconvert_exporter": "python",
   "pygments_lexer": "ipython3",
   "version": "3.9.13"
  }
 },
 "nbformat": 4,
 "nbformat_minor": 5
}
