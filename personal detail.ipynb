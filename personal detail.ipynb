{
 "cells": [
  {
   "cell_type": "code",
   "execution_count": 43,
   "id": "15b6dab1",
   "metadata": {},
   "outputs": [],
   "source": [
    "personaldetail={\"1\":\"UTHAYA\",\"2\":\"B.TECHCSE\"}"
   ]
  },
  {
   "cell_type": "code",
   "execution_count": 44,
   "id": "6724da88",
   "metadata": {},
   "outputs": [
    {
     "data": {
      "text/plain": [
       "'UTHAYA'"
      ]
     },
     "execution_count": 44,
     "metadata": {},
     "output_type": "execute_result"
    }
   ],
   "source": [
    "personaldetail[\"1\"]"
   ]
  },
  {
   "cell_type": "code",
   "execution_count": 55,
   "id": "afc5dbe5",
   "metadata": {},
   "outputs": [
    {
     "name": "stdout",
     "output_type": "stream",
     "text": [
      "my name is UTHAYA\n"
     ]
    }
   ],
   "source": [
    "print(f\"my name is {personaldetail['1']}\")"
   ]
  },
  {
   "cell_type": "code",
   "execution_count": null,
   "id": "f7390d74",
   "metadata": {},
   "outputs": [],
   "source": []
  },
  {
   "cell_type": "code",
   "execution_count": null,
   "id": "07f33210",
   "metadata": {},
   "outputs": [],
   "source": []
  }
 ],
 "metadata": {
  "kernelspec": {
   "display_name": "Python 3 (ipykernel)",
   "language": "python",
   "name": "python3"
  },
  "language_info": {
   "codemirror_mode": {
    "name": "ipython",
    "version": 3
   },
   "file_extension": ".py",
   "mimetype": "text/x-python",
   "name": "python",
   "nbconvert_exporter": "python",
   "pygments_lexer": "ipython3",
   "version": "3.11.4"
  }
 },
 "nbformat": 4,
 "nbformat_minor": 5
}
