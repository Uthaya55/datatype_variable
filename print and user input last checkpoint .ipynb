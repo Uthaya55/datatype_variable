{
 "cells": [
  {
   "cell_type": "markdown",
   "id": "e2d77fd9",
   "metadata": {},
   "source": [
    "a=10"
   ]
  },
  {
   "cell_type": "code",
   "execution_count": 3,
   "id": "b824d1df",
   "metadata": {},
   "outputs": [
    {
     "data": {
      "text/plain": [
       "10"
      ]
     },
     "execution_count": 3,
     "metadata": {},
     "output_type": "execute_result"
    }
   ],
   "source": [
    "a"
   ]
  },
  {
   "cell_type": "code",
   "execution_count": 4,
   "id": "ba5e98fe",
   "metadata": {},
   "outputs": [
    {
     "name": "stdout",
     "output_type": "stream",
     "text": [
      "10\n"
     ]
    }
   ],
   "source": [
    "print(a)"
   ]
  },
  {
   "cell_type": "markdown",
   "id": "d2befba5",
   "metadata": {},
   "source": [
    "# FORMAT PRINT"
   ]
  },
  {
   "cell_type": "code",
   "execution_count": 11,
   "id": "5b82eedc",
   "metadata": {},
   "outputs": [],
   "source": [
    "NAME=\"UTHAYA KUMAR\""
   ]
  },
  {
   "cell_type": "code",
   "execution_count": 12,
   "id": "1f43dd79",
   "metadata": {},
   "outputs": [
    {
     "name": "stdout",
     "output_type": "stream",
     "text": [
      "MY NAME IS UTHAYA KUMAR\n"
     ]
    }
   ],
   "source": [
    "print(\"MY NAME IS {}\".format(NAME))"
   ]
  },
  {
   "cell_type": "markdown",
   "id": "a7800cd5",
   "metadata": {},
   "source": [
    "print(\"MY NAME IS {name}.I AM IN {college}\".format(name=\"UTHAYA KUMAR\",college=\"pmist\"))"
   ]
  },
  {
   "cell_type": "markdown",
   "id": "5775449e",
   "metadata": {},
   "source": [
    "# F-PRINT"
   ]
  },
  {
   "cell_type": "code",
   "execution_count": 21,
   "id": "cf6750e3",
   "metadata": {},
   "outputs": [
    {
     "name": "stdout",
     "output_type": "stream",
     "text": [
      "my name is Uthaya.i am computer student\n"
     ]
    }
   ],
   "source": [
    "print(f\"my name is {'Uthaya'}.i am {'computer student'}\")"
   ]
  },
  {
   "cell_type": "markdown",
   "id": "93d40e23",
   "metadata": {},
   "source": [
    "# TASK 1\n",
    "she sell\"sea\" shell in \"sea shore\""
   ]
  },
  {
   "cell_type": "code",
   "execution_count": null,
   "id": "da97244d",
   "metadata": {},
   "outputs": [],
   "source": [
    "print(f\"she sell(x) shell in(y).format{(x='sea'),(y='sea shore')}\")"
   ]
  },
  {
   "cell_type": "markdown",
   "id": "0f4ff0ed",
   "metadata": {},
   "source": [
    "# USER INPUT"
   ]
  },
  {
   "cell_type": "code",
   "execution_count": null,
   "id": "09ddc3ce",
   "metadata": {},
   "outputs": [],
   "source": [
    "var1=int(input())"
   ]
  },
  {
   "cell_type": "code",
   "execution_count": null,
   "id": "bc3d3bf4",
   "metadata": {},
   "outputs": [],
   "source": []
  }
 ],
 "metadata": {
  "kernelspec": {
   "display_name": "Python 3 (ipykernel)",
   "language": "python",
   "name": "python3"
  },
  "language_info": {
   "codemirror_mode": {
    "name": "ipython",
    "version": 3
   },
   "file_extension": ".py",
   "mimetype": "text/x-python",
   "name": "python",
   "nbconvert_exporter": "python",
   "pygments_lexer": "ipython3",
   "version": "3.11.4"
  }
 },
 "nbformat": 4,
 "nbformat_minor": 5
}
